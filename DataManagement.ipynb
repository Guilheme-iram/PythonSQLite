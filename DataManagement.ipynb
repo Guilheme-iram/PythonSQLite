{
 "cells": [
  {
   "cell_type": "markdown",
   "id": "c66ed85c-d6f8-4841-88d7-d17bb1284253",
   "metadata": {},
   "source": [
    "## SQLite with Python\n",
    "\n",
    "- This project aims to exercise my knowledge of database handling using Python language.\n",
    "\n",
    "@GuilhermeIram"
   ]
  },
  {
   "cell_type": "markdown",
   "id": "324ff40f-aaa1-488e-9067-18abdf56dd2c",
   "metadata": {},
   "source": [
    "## 1 - Loading the Libraries"
   ]
  },
  {
   "cell_type": "code",
   "execution_count": 1,
   "id": "e70d302b-1795-46b2-a581-198fab726bd6",
   "metadata": {},
   "outputs": [],
   "source": [
    "import os\n",
    "import sqlite3\n",
    "import pandas as pd\n",
    "import numpy as np\n",
    "from numpy.random import randint, randn, rand\n",
    "import matplotlib.pyplot as plt\n",
    "%matplotlib notebook"
   ]
  },
  {
   "cell_type": "markdown",
   "id": "56af3537-c147-49f9-8e8d-a6585be4177e",
   "metadata": {},
   "source": [
    "## 2 - Making synthetic data"
   ]
  },
  {
   "cell_type": "code",
   "execution_count": 2,
   "id": "b268f653-2362-4701-9024-1210e821e600",
   "metadata": {},
   "outputs": [],
   "source": [
    "f = lambda x1, x2, x3: ((x1**3) / 10) - (x2**2) - x3 + round((rand() * 30), 2) # f(x1, x2, x3) = (x1^3 / 10) - x^2 - x3 + *noise*"
   ]
  },
  {
   "cell_type": "code",
   "execution_count": 3,
   "id": "769d6043-5701-424b-b67a-023a30e8c389",
   "metadata": {},
   "outputs": [],
   "source": [
    "m = 10\n",
    "x1, x2, x3 = (randn(3, m) * 10).round(2)\n",
    "id_db = np.arange(m)\n",
    "y = f(x1, x2, x3).round(2)"
   ]
  },
  {
   "cell_type": "code",
   "execution_count": 4,
   "id": "7306c561-da51-406b-ada7-bd4fe89ffc71",
   "metadata": {},
   "outputs": [],
   "source": [
    "dict_data = {'x1': x1, 'x2': x2, 'x3': x3, 'y': y}"
   ]
  },
  {
   "cell_type": "code",
   "execution_count": 5,
   "id": "3a711f38-2055-48db-a315-7b6a74c39548",
   "metadata": {},
   "outputs": [
    {
     "data": {
      "text/html": [
       "<div>\n",
       "<style scoped>\n",
       "    .dataframe tbody tr th:only-of-type {\n",
       "        vertical-align: middle;\n",
       "    }\n",
       "\n",
       "    .dataframe tbody tr th {\n",
       "        vertical-align: top;\n",
       "    }\n",
       "\n",
       "    .dataframe thead th {\n",
       "        text-align: right;\n",
       "    }\n",
       "</style>\n",
       "<table border=\"1\" class=\"dataframe\">\n",
       "  <thead>\n",
       "    <tr style=\"text-align: right;\">\n",
       "      <th></th>\n",
       "      <th>x1</th>\n",
       "      <th>x2</th>\n",
       "      <th>x3</th>\n",
       "      <th>y</th>\n",
       "    </tr>\n",
       "  </thead>\n",
       "  <tbody>\n",
       "    <tr>\n",
       "      <th>0</th>\n",
       "      <td>9.93</td>\n",
       "      <td>-3.95</td>\n",
       "      <td>0.30</td>\n",
       "      <td>109.73</td>\n",
       "    </tr>\n",
       "    <tr>\n",
       "      <th>1</th>\n",
       "      <td>21.22</td>\n",
       "      <td>-8.11</td>\n",
       "      <td>-32.99</td>\n",
       "      <td>950.45</td>\n",
       "    </tr>\n",
       "    <tr>\n",
       "      <th>2</th>\n",
       "      <td>2.18</td>\n",
       "      <td>7.20</td>\n",
       "      <td>-4.18</td>\n",
       "      <td>-18.90</td>\n",
       "    </tr>\n",
       "    <tr>\n",
       "      <th>3</th>\n",
       "      <td>-22.06</td>\n",
       "      <td>16.26</td>\n",
       "      <td>3.29</td>\n",
       "      <td>-1313.49</td>\n",
       "    </tr>\n",
       "    <tr>\n",
       "      <th>4</th>\n",
       "      <td>-1.82</td>\n",
       "      <td>-1.14</td>\n",
       "      <td>-8.31</td>\n",
       "      <td>34.13</td>\n",
       "    </tr>\n",
       "  </tbody>\n",
       "</table>\n",
       "</div>"
      ],
      "text/plain": [
       "      x1     x2     x3        y\n",
       "0   9.93  -3.95   0.30   109.73\n",
       "1  21.22  -8.11 -32.99   950.45\n",
       "2   2.18   7.20  -4.18   -18.90\n",
       "3 -22.06  16.26   3.29 -1313.49\n",
       "4  -1.82  -1.14  -8.31    34.13"
      ]
     },
     "execution_count": 5,
     "metadata": {},
     "output_type": "execute_result"
    }
   ],
   "source": [
    "data_df = pd.DataFrame(dict_data)\n",
    "data_df.head()"
   ]
  },
  {
   "cell_type": "markdown",
   "id": "3a2cf876-ee6e-48cb-a3b7-192d1eba604a",
   "metadata": {},
   "source": [
    "## 3 - SQLite commands using Python"
   ]
  },
  {
   "cell_type": "code",
   "execution_count": 6,
   "id": "2a77550b-31f9-47cd-bb91-8d9b36b6a47a",
   "metadata": {},
   "outputs": [],
   "source": [
    "def create_table(name='data'):\n",
    "    c.execute(f\"CREATE TABLE IF NOT EXISTS {name} (id INTEGER PRIMARY KEY AUTOINCREMENT NOT NULL,\"\\\n",
    "    \"x1 varFLOAT(8, 2), \"\\\n",
    "    \"x2 varFLOAT(8, 2), \"\\\n",
    "    \"x3 varFLOAT(8, 2), \"\\\n",
    "    \"y varFLOAT(8, 2))\")\n",
    "\n",
    "    \n",
    "def data_insert_raw(x1, x2, x3, y, name=\"data\"):\n",
    "    c.execute(f\"INSERT INTO {name} (x1, x2, x3, y) VALUES (?, ?, ?, ?)\", \n",
    "              (x1, x2, x3, y))\n",
    "    con.commit()\n",
    "    \n",
    "    \n",
    "def read_all_data():\n",
    "    c.execute(\"SELECT * FROM DATA\")\n",
    "    for raw in c.fetchall():\n",
    "        print(raw)\n",
    "        \n",
    "\n",
    "def read_record(cond = - np.inf):\n",
    "    c.execute(f\"SELECT * FROM PRODUTOS WHERE valor > {cond}\")\n",
    "    for linha in c.fetchall():\n",
    "        print(linha)      \n",
    "        \n",
    "def read_column(i_column):\n",
    "    c.execute(\"SELECT * FROM DATA\")\n",
    "    for raw in c.fetchall():\n",
    "        print(raw[i_column])  \n",
    "        \n",
    "\n",
    "def update_data(new_value = 0, cond = np.inf):\n",
    "    c.execute(f\"UPDATE produtos SET valor = {new_value} WHERE valor > {cond}\")\n",
    "    con.commit()\n",
    "    \n",
    "    \n",
    "def remove_data(num):\n",
    "    c.execute(f\"DELETE FROM data WHERE valor = {num}\")\n",
    "    con.commit()\n",
    "    \n",
    "\n",
    "def remove_all_data(name=\"data\"):\n",
    "    c.execute(f\"DELETE FROM {name}\")\n",
    "    con.commit()\n",
    "\n",
    "\n",
    "def remove_db(name=\"dataStorage\"):\n",
    "    os.remove(f\"{name}.db\") if os.path.exists(f\"{name}.db\") else None\n",
    "    \n",
    "    "
   ]
  },
  {
   "cell_type": "markdown",
   "id": "2215e2e6-6d92-4314-b8fc-5c30e68b6758",
   "metadata": {},
   "source": [
    "### 3.1 - Creating a Table with the data"
   ]
  },
  {
   "cell_type": "code",
   "execution_count": 7,
   "id": "57fcc682-4fb7-47b3-b75e-195fdc6accfa",
   "metadata": {},
   "outputs": [],
   "source": [
    "con = sqlite3.connect('dataStorage.db')"
   ]
  },
  {
   "cell_type": "code",
   "execution_count": 8,
   "id": "752768a8-b8a0-4ed5-9d1c-2c961fd2ad5c",
   "metadata": {},
   "outputs": [],
   "source": [
    "c = con.cursor()"
   ]
  },
  {
   "cell_type": "code",
   "execution_count": 9,
   "id": "1c0b512b-a65d-4d94-85bd-bc95d15b0974",
   "metadata": {},
   "outputs": [],
   "source": [
    "create_table(\"data\")"
   ]
  },
  {
   "cell_type": "markdown",
   "id": "11981ca0-f3e1-4b7b-9ee6-47696c07466e",
   "metadata": {},
   "source": [
    "### 3.2 - Data insertion"
   ]
  },
  {
   "cell_type": "code",
   "execution_count": 10,
   "id": "6a3d670a-e037-4c5c-aef7-f3499ff87f03",
   "metadata": {},
   "outputs": [],
   "source": [
    "x1 = np.array([data_df['x1']]).reshape(-1, 1)\n",
    "x2 = np.array([data_df['x2']]).reshape(-1, 1)\n",
    "x3 = np.array([data_df['x3']]).reshape(-1, 1)\n",
    "y = np.array([data_df['y']]).reshape(-1, 1)"
   ]
  },
  {
   "cell_type": "code",
   "execution_count": 11,
   "id": "61588d30-cb9c-43f0-8a7e-29c88e9268c9",
   "metadata": {},
   "outputs": [],
   "source": [
    "for i in range(m):\n",
    "    data_insert_raw(x1[i, 0], x2[i, 0], x3[i, 0], y[i, 0])"
   ]
  },
  {
   "cell_type": "code",
   "execution_count": 12,
   "id": "6a00edd6-0ece-46a3-9743-f8a50a448559",
   "metadata": {},
   "outputs": [
    {
     "name": "stdout",
     "output_type": "stream",
     "text": [
      "(1, 9.93, -3.95, 0.3, 109.73)\n",
      "(2, 21.22, -8.11, -32.99, 950.45)\n",
      "(3, 2.18, 7.2, -4.18, -18.9)\n",
      "(4, -22.06, 16.26, 3.29, -1313.49)\n",
      "(5, -1.82, -1.14, -8.31, 34.13)\n",
      "(6, 9.34, 2.09, -20.83, 125.66)\n",
      "(7, 3.69, -8.05, 0.54, -32.6)\n",
      "(8, 8.35, 3.49, 5.66, 68.1)\n",
      "(9, -4.17, -19.28, 2.16, -353.41)\n",
      "(10, -5.72, 11.41, 16.81, -137.99)\n"
     ]
    }
   ],
   "source": [
    "read_all_data()"
   ]
  },
  {
   "cell_type": "code",
   "execution_count": 13,
   "id": "806210b3-8e25-49a8-90eb-b976d0058a69",
   "metadata": {},
   "outputs": [],
   "source": [
    "con.close()"
   ]
  },
  {
   "cell_type": "code",
   "execution_count": 14,
   "id": "c93b67c1-16ce-4986-afc6-7005f96ae1e3",
   "metadata": {},
   "outputs": [],
   "source": [
    "#remove_db(\"dataStorage\")"
   ]
  }
 ],
 "metadata": {
  "kernelspec": {
   "display_name": "Python 3",
   "language": "python",
   "name": "python3"
  },
  "language_info": {
   "codemirror_mode": {
    "name": "ipython",
    "version": 3
   },
   "file_extension": ".py",
   "mimetype": "text/x-python",
   "name": "python",
   "nbconvert_exporter": "python",
   "pygments_lexer": "ipython3",
   "version": "3.8.8"
  }
 },
 "nbformat": 4,
 "nbformat_minor": 5
}
